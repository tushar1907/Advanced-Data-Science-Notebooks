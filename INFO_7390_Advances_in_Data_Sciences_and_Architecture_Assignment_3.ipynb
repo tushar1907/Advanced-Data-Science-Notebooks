{
 "cells": [
  {
   "cell_type": "markdown",
   "metadata": {},
   "source": [
    "Assignment 3 - Your Project Database\n",
    "\n",
    "Due Sunday, November 5, 2017\n",
    "\n",
    "Submission: Put the data and Jupyter notebook files in a folder. Make sure all links to data are relative to the folder so the TAs can run the notebooks.\n",
    "\n",
    "You MUST use the data set that you will use in your project.\n",
    "In this assignment, you will create a database for analysis for your project. The assignment can be done together for group projects.\n",
    "\n",
    "Part A - Create a database (30 points)\n",
    "Create a database for your project. If a relational database it must be in at least third normal form. Your database can be SQL, NoSQL or Hadoop Distributed File System (HDFS). Show your schema.\n",
    "\n",
    "Part B - Queries (30 points)\n",
    "Generate a list of five common queries for your data.\n",
    "Implement the five common queries.\n",
    "Time the implementation of the five common queries and give an estimate of how they scale.\n",
    "\n",
    "Part C - Back-up your data on Google Cloud (40 points)\n",
    "Create a scheme to back-up your data.\n",
    "Implement your scheme to back-up your data on Google Cloud. The database itself can also be on Google Cloud."
   ]
  },
  {
   "cell_type": "code",
   "execution_count": 1,
   "metadata": {},
   "outputs": [],
   "source": [
    "###In the below code we are trying to mine texts from common crwaller website based on specific domain\n",
    "import requests\n",
    "import argparse\n",
    "import time\n",
    "import json\n",
    "import gzip\n",
    "import csv\n",
    "import codecs\n",
    "import io\n",
    "from bs4 import BeautifulSoup\n",
    "\n",
    "import sys\n",
    "#reload(sys)\n",
    "#sys.setdefaultencoding('utf8')\n",
    "\n",
    "##Input texts\n",
    "domain = ['https://unsupervisedmethods.com','http://deeplearning.net/','https://machinelearningmastery.com','aitreands.com','sciendedaily.com','machinelarningmastery.com','news.mit.edu','aitopics.com','mlweekly.com','machinelearning.co','artificial-intelligence.blog','chatbotsmagazine.com']\n",
    "\n",
    "##list of indices to search from common crawl website\n",
    "index_list = ['2017-43','2017-39','2017-34','2017-30','2017-26','2017-22','2017-17','2017-13','2017-09','2017-04']\n"
   ]
  },
  {
   "cell_type": "code",
   "execution_count": 2,
   "metadata": {
    "collapsed": true
   },
   "outputs": [],
   "source": [
    "#Search for common crawl index for a domain\n",
    "def search_domain(domain):\n",
    "    record_list=[]\n",
    "    \n",
    "    print(\"[*] trying target domain {0}\".format(domain))\n",
    "    \n",
    "    for index in index_list:\n",
    "        cc_url = \"http://index.commoncrawl.org/CC-MAIN-{0}-index?\".format(index)\n",
    "        cc_url += \"url={0}&output=json\".format(domain)\n",
    "        \n",
    "        response = requests.get(cc_url)\n",
    "        print(response)\n",
    "        if response.status_code == 200:\n",
    "            records = response.content.splitlines()\n",
    "            \n",
    "            for record in records:\n",
    "                record_list.append(json.loads(record))\n",
    "            \n",
    "            print(\"[*] Added {0} results.\".format(len(records)))\n",
    "        \n",
    "    print(\"[*] Found a total of {0} hits.\".format(len(record_list)))\n",
    "    \n",
    "    return record_list"
   ]
  },
  {
   "cell_type": "code",
   "execution_count": 3,
   "metadata": {
    "collapsed": true
   },
   "outputs": [],
   "source": [
    "##fetch data from the page found\n",
    "\n",
    "def download_data(record):\n",
    "    \n",
    "    offset, length = int(record['offset']), int(record['length'])\n",
    "    offset_end = offset + length - 1\n",
    "    \n",
    "    ##Getting data from s3 aws.com\n",
    "    prefix = 'https://commoncrawl.s3.amazonaws.com/'\n",
    "    \n",
    "    #We use range header to just ask this set of bytes\n",
    "    resp = requests.get(prefix + record['filename'], headers={'Range': 'bytes={0}-{1}'.format(offset, offset_end)})\n",
    "    \n",
    "    # The page is stored compressed (gzip) to save space\n",
    "    # We can extract it using the GZIP library\n",
    "    \n",
    "    print(prefix + record['filename'])\n",
    "    \n",
    "    raw_data = io.BytesIO(resp.content)\n",
    "    f = gzip.GzipFile(fileobj=raw_data)\n",
    "    \n",
    "    # What we have now is just the WARC response, formatted:\n",
    "    if f:\n",
    "        data = f.read()\n",
    "        #print(data)\n",
    "        response = \"\"\n",
    "        #print(data)\n",
    "        data_string = data.decode('utf-8')\n",
    "        if len(data_string):\n",
    "            try:\n",
    "                warc,header,response=data_string.strip().split('\\r\\n\\r\\n',2)\n",
    "            except:\n",
    "                pass\n",
    "    return response"
   ]
  },
  {
   "cell_type": "code",
   "execution_count": 4,
   "metadata": {
    "collapsed": true
   },
   "outputs": [],
   "source": [
    "##Search for domain and extract raw HTML\n",
    "from bs4.element import Comment\n",
    "import urllib\n",
    "\n",
    "def tag_visible(element):\n",
    "    if element.parent.name in ['style', 'script', 'head', 'title', 'meta', '[document]']:\n",
    "        return False\n",
    "    if isinstance(element, Comment):\n",
    "        return False\n",
    "    return True\n",
    "\n",
    "\n",
    "def extract_html(html_content,link_list):\n",
    "    parser = BeautifulSoup(html_content)\n",
    "    links = parser.find_all('a')\n",
    "    if links:\n",
    "        for link in links:\n",
    "            href = link.attrs.get(\"href\")\n",
    "            if href is not None:\n",
    "                \n",
    "                if domains not in href:\n",
    "                    if href not in link_list and href.startswith(\"http\"):\n",
    "                        #print(\"[*] Discovered external link: {0}\".format(href))\n",
    "                        link_list.append(href)\n",
    "\n",
    "    texts = parser.findAll(text=True)\n",
    "    visible_texts = filter(tag_visible, texts) \n",
    "    for t in visible_texts:\n",
    "        t = t.strip()\n",
    "        if t:\n",
    "            link_list.append(t)\n",
    "                \n",
    "                       \n",
    "    return link_list"
   ]
  },
  {
   "cell_type": "code",
   "execution_count": 5,
   "metadata": {},
   "outputs": [
    {
     "name": "stdout",
     "output_type": "stream",
     "text": [
      "[*] trying target domain https://unsupervisedmethods.com\n",
      "<Response [200]>\n",
      "[*] Added 2 results.\n",
      "<Response [404]>\n",
      "<Response [200]>\n",
      "[*] Added 2 results.\n",
      "<Response [404]>\n",
      "<Response [404]>\n",
      "<Response [404]>\n",
      "<Response [404]>\n",
      "<Response [404]>\n",
      "<Response [404]>\n",
      "<Response [404]>\n",
      "[*] Found a total of 4 hits.\n",
      "https://commoncrawl.s3.amazonaws.com/crawl-data/CC-MAIN-2017-43/segments/1508187826642.70/crawldiagnostics/CC-MAIN-20171023202120-20171023222120-00540.warc.gz\n",
      "[*] Retrieved 176 bytes for http://unsupervisedmethods.com/\n"
     ]
    },
    {
     "name": "stderr",
     "output_type": "stream",
     "text": [
      "C:\\Users\\Tushar\\Anaconda3\\lib\\site-packages\\bs4\\__init__.py:181: UserWarning: No parser was explicitly specified, so I'm using the best available HTML parser for this system (\"lxml\"). This usually isn't a problem, but if you run this code on another system, or in a different virtual environment, it may use a different parser and behave differently.\n",
      "\n",
      "The code that caused this warning is on line 193 of the file C:\\Users\\Tushar\\Anaconda3\\lib\\runpy.py. To get rid of this warning, change code that looks like this:\n",
      "\n",
      " BeautifulSoup(YOUR_MARKUP})\n",
      "\n",
      "to this:\n",
      "\n",
      " BeautifulSoup(YOUR_MARKUP, \"lxml\")\n",
      "\n",
      "  markup_type=markup_type))\n"
     ]
    },
    {
     "name": "stdout",
     "output_type": "stream",
     "text": [
      "https://commoncrawl.s3.amazonaws.com/crawl-data/CC-MAIN-2017-43/segments/1508187826642.70/crawldiagnostics/CC-MAIN-20171023202120-20171023222120-00515.warc.gz\n",
      "[*] Retrieved 152 bytes for https://unsupervisedmethods.com/\n",
      "https://commoncrawl.s3.amazonaws.com/crawl-data/CC-MAIN-2017-34/segments/1502886105086.81/crawldiagnostics/CC-MAIN-20170818175604-20170818195604-00360.warc.gz\n",
      "[*] Retrieved 176 bytes for http://unsupervisedmethods.com/\n",
      "https://commoncrawl.s3.amazonaws.com/crawl-data/CC-MAIN-2017-34/segments/1502886105086.81/crawldiagnostics/CC-MAIN-20170818175604-20170818195604-00695.warc.gz\n",
      "[*] Retrieved 152 bytes for https://unsupervisedmethods.com/\n",
      "[*] trying target domain http://deeplearning.net/\n",
      "<Response [200]>\n",
      "[*] Added 1 results.\n",
      "<Response [200]>\n",
      "[*] Added 1 results.\n",
      "<Response [200]>\n",
      "[*] Added 1 results.\n",
      "<Response [200]>\n",
      "[*] Added 1 results.\n",
      "<Response [200]>\n",
      "[*] Added 1 results.\n",
      "<Response [200]>\n",
      "[*] Added 1 results.\n",
      "<Response [200]>\n",
      "[*] Added 1 results.\n",
      "<Response [200]>\n",
      "[*] Added 1 results.\n",
      "<Response [200]>\n",
      "[*] Added 3 results.\n",
      "<Response [200]>\n",
      "[*] Added 1 results.\n",
      "[*] Found a total of 12 hits.\n",
      "https://commoncrawl.s3.amazonaws.com/crawl-data/CC-MAIN-2017-43/segments/1508187824824.76/warc/CC-MAIN-20171021171712-20171021191712-00705.warc.gz\n",
      "[*] Retrieved 67654 bytes for http://deeplearning.net/\n",
      "https://commoncrawl.s3.amazonaws.com/crawl-data/CC-MAIN-2017-39/segments/1505818688932.49/warc/CC-MAIN-20170922093346-20170922113346-00165.warc.gz\n",
      "[*] Retrieved 66126 bytes for http://deeplearning.net/\n",
      "https://commoncrawl.s3.amazonaws.com/crawl-data/CC-MAIN-2017-34/segments/1502886110774.86/warc/CC-MAIN-20170822123737-20170822143737-00165.warc.gz\n",
      "[*] Retrieved 65647 bytes for http://deeplearning.net/\n",
      "https://commoncrawl.s3.amazonaws.com/crawl-data/CC-MAIN-2017-30/segments/1500549423927.54/warc/CC-MAIN-20170722082709-20170722102709-00165.warc.gz\n",
      "[*] Retrieved 65646 bytes for http://deeplearning.net/\n",
      "https://commoncrawl.s3.amazonaws.com/crawl-data/CC-MAIN-2017-26/segments/1498128320489.26/warc/CC-MAIN-20170625101427-20170625121427-00165.warc.gz\n",
      "[*] Retrieved 65647 bytes for http://deeplearning.net/\n",
      "https://commoncrawl.s3.amazonaws.com/crawl-data/CC-MAIN-2017-22/segments/1495463612013.52/warc/CC-MAIN-20170529034049-20170529054049-00197.warc.gz\n",
      "[*] Retrieved 65646 bytes for http://deeplearning.net/\n",
      "https://commoncrawl.s3.amazonaws.com/crawl-data/CC-MAIN-2017-17/segments/1492917120878.96/warc/CC-MAIN-20170423031200-00427-ip-10-145-167-34.ec2.internal.warc.gz\n",
      "[*] Retrieved 65646 bytes for http://deeplearning.net/\n",
      "https://commoncrawl.s3.amazonaws.com/crawl-data/CC-MAIN-2017-13/segments/1490218190753.92/warc/CC-MAIN-20170322212950-00340-ip-10-233-31-227.ec2.internal.warc.gz\n",
      "[*] Retrieved 61552 bytes for http://deeplearning.net/\n",
      "https://commoncrawl.s3.amazonaws.com/crawl-data/CC-MAIN-2017-09/segments/1487501170624.14/crawldiagnostics/CC-MAIN-20170219104610-00134-ip-10-171-10-108.ec2.internal.warc.gz\n",
      "[*] Retrieved 0 bytes for http://www.deeplearning.net/\n",
      "https://commoncrawl.s3.amazonaws.com/crawl-data/CC-MAIN-2017-09/segments/1487501170624.14/warc/CC-MAIN-20170219104610-00533-ip-10-171-10-108.ec2.internal.warc.gz\n",
      "[*] Retrieved 62306 bytes for http://deeplearning.net/\n",
      "https://commoncrawl.s3.amazonaws.com/crawl-data/CC-MAIN-2017-09/segments/1487501172902.42/warc/CC-MAIN-20170219104612-00533-ip-10-171-10-108.ec2.internal.warc.gz\n",
      "[*] Retrieved 62306 bytes for http://deeplearning.net/\n",
      "https://commoncrawl.s3.amazonaws.com/crawl-data/CC-MAIN-2017-04/segments/1484560280763.38/warc/CC-MAIN-20170116095120-00267-ip-10-171-10-70.ec2.internal.warc.gz\n",
      "[*] Retrieved 62305 bytes for http://deeplearning.net/\n",
      "[*] trying target domain https://machinelearningmastery.com\n",
      "<Response [200]>\n",
      "[*] Added 5 results.\n",
      "<Response [200]>\n",
      "[*] Added 3 results.\n",
      "<Response [200]>\n",
      "[*] Added 2 results.\n",
      "<Response [200]>\n",
      "[*] Added 1 results.\n",
      "<Response [200]>\n",
      "[*] Added 2 results.\n",
      "<Response [200]>\n",
      "[*] Added 1 results.\n",
      "<Response [200]>\n",
      "[*] Added 1 results.\n",
      "<Response [200]>\n",
      "[*] Added 2 results.\n",
      "<Response [200]>\n",
      "[*] Added 1 results.\n",
      "<Response [200]>\n",
      "[*] Added 3 results.\n",
      "[*] Found a total of 21 hits.\n",
      "https://commoncrawl.s3.amazonaws.com/crawl-data/CC-MAIN-2017-43/segments/1508187820556.7/crawldiagnostics/CC-MAIN-20171017013608-20171017033608-00329.warc.gz\n",
      "[*] Retrieved 176 bytes for http://machinelearningmastery.com/\n",
      "https://commoncrawl.s3.amazonaws.com/crawl-data/CC-MAIN-2017-43/segments/1508187820556.7/warc/CC-MAIN-20171017013608-20171017033608-00506.warc.gz\n",
      "[*] Retrieved 36101 bytes for https://machinelearningmastery.com/\n",
      "https://commoncrawl.s3.amazonaws.com/crawl-data/CC-MAIN-2017-43/segments/1508187825399.73/crawldiagnostics/CC-MAIN-20171022165927-20171022185927-00509.warc.gz\n",
      "[*] Retrieved 176 bytes for http://machinelearningmastery.com/\n",
      "https://commoncrawl.s3.amazonaws.com/crawl-data/CC-MAIN-2017-43/segments/1508187825399.73/crawldiagnostics/CC-MAIN-20171022165927-20171022185927-00526.warc.gz\n",
      "[*] Retrieved 176 bytes for http://www.machinelearningmastery.com/\n",
      "https://commoncrawl.s3.amazonaws.com/crawl-data/CC-MAIN-2017-43/segments/1508187825399.73/warc/CC-MAIN-20171022165927-20171022185927-00506.warc.gz\n",
      "[*] Retrieved 36100 bytes for https://machinelearningmastery.com/\n",
      "https://commoncrawl.s3.amazonaws.com/crawl-data/CC-MAIN-2017-39/segments/1505818689900.91/warc/CC-MAIN-20170924081752-20170924101752-00506.warc.gz\n",
      "[*] Retrieved 36055 bytes for https://machinelearningmastery.com/\n",
      "https://commoncrawl.s3.amazonaws.com/crawl-data/CC-MAIN-2017-39/segments/1505818696677.93/crawldiagnostics/CC-MAIN-20170926175208-20170926195208-00329.warc.gz\n",
      "[*] Retrieved 176 bytes for http://machinelearningmastery.com/\n",
      "https://commoncrawl.s3.amazonaws.com/crawl-data/CC-MAIN-2017-39/segments/1505818696677.93/warc/CC-MAIN-20170926175208-20170926195208-00506.warc.gz\n",
      "[*] Retrieved 36100 bytes for https://machinelearningmastery.com/\n",
      "https://commoncrawl.s3.amazonaws.com/crawl-data/CC-MAIN-2017-34/segments/1502886105455.37/warc/CC-MAIN-20170819143637-20170819163637-00329.warc.gz\n",
      "[*] Retrieved 35804 bytes for http://machinelearningmastery.com/\n",
      "https://commoncrawl.s3.amazonaws.com/crawl-data/CC-MAIN-2017-34/segments/1502886133447.78/warc/CC-MAIN-20170824082227-20170824102227-00506.warc.gz\n",
      "[*] Retrieved 36086 bytes for https://machinelearningmastery.com/\n",
      "https://commoncrawl.s3.amazonaws.com/crawl-data/CC-MAIN-2017-30/segments/1500549424683.39/warc/CC-MAIN-20170724022304-20170724042304-00329.warc.gz\n",
      "[*] Retrieved 35794 bytes for http://machinelearningmastery.com/\n",
      "https://commoncrawl.s3.amazonaws.com/crawl-data/CC-MAIN-2017-26/segments/1498128319912.4/warc/CC-MAIN-20170622220117-20170623000117-00329.warc.gz\n",
      "[*] Retrieved 37420 bytes for http://machinelearningmastery.com/\n",
      "https://commoncrawl.s3.amazonaws.com/crawl-data/CC-MAIN-2017-26/segments/1498128322873.10/warc/CC-MAIN-20170628065139-20170628085139-00329.warc.gz\n",
      "[*] Retrieved 37375 bytes for http://machinelearningmastery.com/\n",
      "https://commoncrawl.s3.amazonaws.com/crawl-data/CC-MAIN-2017-22/segments/1495463607846.35/warc/CC-MAIN-20170524131951-20170524151951-00338.warc.gz\n",
      "[*] Retrieved 37270 bytes for http://machinelearningmastery.com/\n",
      "https://commoncrawl.s3.amazonaws.com/crawl-data/CC-MAIN-2017-17/segments/1492917122996.52/warc/CC-MAIN-20170423031202-00595-ip-10-145-167-34.ec2.internal.warc.gz\n",
      "[*] Retrieved 37266 bytes for http://machinelearningmastery.com/\n",
      "https://commoncrawl.s3.amazonaws.com/crawl-data/CC-MAIN-2017-13/segments/1490218188132.48/warc/CC-MAIN-20170322212948-00524-ip-10-233-31-227.ec2.internal.warc.gz\n",
      "[*] Retrieved 37726 bytes for http://machinelearningmastery.com/\n",
      "https://commoncrawl.s3.amazonaws.com/crawl-data/CC-MAIN-2017-13/segments/1490218190134.67/warc/CC-MAIN-20170322212950-00524-ip-10-233-31-227.ec2.internal.warc.gz\n",
      "[*] Retrieved 36325 bytes for http://machinelearningmastery.com/\n",
      "https://commoncrawl.s3.amazonaws.com/crawl-data/CC-MAIN-2017-09/segments/1487501171629.92/warc/CC-MAIN-20170219104611-00061-ip-10-171-10-108.ec2.internal.warc.gz\n",
      "[*] Retrieved 37228 bytes for http://machinelearningmastery.com/\n",
      "https://commoncrawl.s3.amazonaws.com/crawl-data/CC-MAIN-2017-04/segments/1484560279169.4/crawldiagnostics/CC-MAIN-20170116095119-00170-ip-10-171-10-70.ec2.internal.warc.gz\n",
      "[*] Retrieved 176 bytes for https://machinelearningmastery.com/\n"
     ]
    },
    {
     "name": "stdout",
     "output_type": "stream",
     "text": [
      "https://commoncrawl.s3.amazonaws.com/crawl-data/CC-MAIN-2017-04/segments/1484560279169.4/warc/CC-MAIN-20170116095119-00289-ip-10-171-10-70.ec2.internal.warc.gz\n",
      "[*] Retrieved 36947 bytes for http://machinelearningmastery.com/\n",
      "https://commoncrawl.s3.amazonaws.com/crawl-data/CC-MAIN-2017-04/segments/1484560280483.83/warc/CC-MAIN-20170116095120-00289-ip-10-171-10-70.ec2.internal.warc.gz\n",
      "[*] Retrieved 36991 bytes for http://machinelearningmastery.com/\n",
      "[*] trying target domain aitreands.com\n",
      "<Response [404]>\n",
      "<Response [404]>\n",
      "<Response [404]>\n",
      "<Response [404]>\n",
      "<Response [404]>\n",
      "<Response [404]>\n",
      "<Response [404]>\n",
      "<Response [404]>\n",
      "<Response [404]>\n",
      "<Response [404]>\n",
      "[*] Found a total of 0 hits.\n",
      "[*] trying target domain sciendedaily.com\n",
      "<Response [404]>\n",
      "<Response [404]>\n",
      "<Response [404]>\n",
      "<Response [404]>\n",
      "<Response [404]>\n",
      "<Response [404]>\n",
      "<Response [404]>\n",
      "<Response [404]>\n",
      "<Response [404]>\n",
      "<Response [404]>\n",
      "[*] Found a total of 0 hits.\n",
      "[*] trying target domain machinelarningmastery.com\n",
      "<Response [404]>\n",
      "<Response [404]>\n",
      "<Response [404]>\n",
      "<Response [404]>\n",
      "<Response [404]>\n",
      "<Response [404]>\n",
      "<Response [404]>\n",
      "<Response [404]>\n",
      "<Response [404]>\n",
      "<Response [404]>\n",
      "[*] Found a total of 0 hits.\n",
      "[*] trying target domain news.mit.edu\n",
      "<Response [200]>\n",
      "[*] Added 8 results.\n",
      "<Response [200]>\n",
      "[*] Added 5 results.\n",
      "<Response [200]>\n",
      "[*] Added 3 results.\n",
      "<Response [200]>\n",
      "[*] Added 5 results.\n",
      "<Response [200]>\n",
      "[*] Added 4 results.\n",
      "<Response [200]>\n",
      "[*] Added 8 results.\n",
      "<Response [200]>\n",
      "[*] Added 7 results.\n",
      "<Response [200]>\n",
      "[*] Added 5 results.\n",
      "<Response [200]>\n",
      "[*] Added 12 results.\n",
      "<Response [200]>\n",
      "[*] Added 5 results.\n",
      "[*] Found a total of 62 hits.\n",
      "https://commoncrawl.s3.amazonaws.com/crawl-data/CC-MAIN-2017-43/segments/1508187820700.4/warc/CC-MAIN-20171017033641-20171017053641-00217.warc.gz\n",
      "[*] Retrieved 118009 bytes for http://news.mit.edu/\n",
      "https://commoncrawl.s3.amazonaws.com/crawl-data/CC-MAIN-2017-43/segments/1508187820927.48/warc/CC-MAIN-20171017052945-20171017072945-00217.warc.gz\n",
      "[*] Retrieved 112785 bytes for http://news.mit.edu/\n",
      "https://commoncrawl.s3.amazonaws.com/crawl-data/CC-MAIN-2017-43/segments/1508187822513.17/warc/CC-MAIN-20171017215800-20171017235800-00217.warc.gz\n",
      "[*] Retrieved 111668 bytes for http://news.mit.edu/\n",
      "https://commoncrawl.s3.amazonaws.com/crawl-data/CC-MAIN-2017-43/segments/1508187823309.55/warc/CC-MAIN-20171019141046-20171019161046-00217.warc.gz\n",
      "[*] Retrieved 111605 bytes for http://news.mit.edu/\n",
      "https://commoncrawl.s3.amazonaws.com/crawl-data/CC-MAIN-2017-43/segments/1508187823350.23/warc/CC-MAIN-20171019160040-20171019180040-00217.warc.gz\n",
      "[*] Retrieved 117150 bytes for http://news.mit.edu/\n",
      "https://commoncrawl.s3.amazonaws.com/crawl-data/CC-MAIN-2017-43/segments/1508187824824.76/warc/CC-MAIN-20171021171712-20171021191712-00217.warc.gz\n",
      "[*] Retrieved 113151 bytes for http://news.mit.edu/\n",
      "https://commoncrawl.s3.amazonaws.com/crawl-data/CC-MAIN-2017-43/segments/1508187824894.98/warc/CC-MAIN-20171021190701-20171021210701-00217.warc.gz\n",
      "[*] Retrieved 112900 bytes for http://news.mit.edu/\n",
      "https://commoncrawl.s3.amazonaws.com/crawl-data/CC-MAIN-2017-43/segments/1508187825900.44/warc/CC-MAIN-20171023111450-20171023131450-00890.warc.gz\n",
      "[*] Retrieved 116310 bytes for https://news.mit.edu/\n",
      "https://commoncrawl.s3.amazonaws.com/crawl-data/CC-MAIN-2017-39/segments/1505818689373.65/warc/CC-MAIN-20170922220838-20170923000838-00217.warc.gz\n",
      "[*] Retrieved 109421 bytes for http://news.mit.edu/\n",
      "https://commoncrawl.s3.amazonaws.com/crawl-data/CC-MAIN-2017-39/segments/1505818689413.52/warc/CC-MAIN-20170923014525-20170923034525-00217.warc.gz\n",
      "[*] Retrieved 114279 bytes for http://news.mit.edu/\n",
      "https://commoncrawl.s3.amazonaws.com/crawl-data/CC-MAIN-2017-39/segments/1505818689572.75/warc/CC-MAIN-20170923070853-20170923090853-00217.warc.gz\n",
      "[*] Retrieved 115061 bytes for http://news.mit.edu/\n",
      "https://commoncrawl.s3.amazonaws.com/crawl-data/CC-MAIN-2017-39/segments/1505818690211.67/warc/CC-MAIN-20170924205308-20170924225308-00217.warc.gz\n",
      "[*] Retrieved 109853 bytes for http://news.mit.edu/\n",
      "https://commoncrawl.s3.amazonaws.com/crawl-data/CC-MAIN-2017-39/segments/1505818690318.83/warc/CC-MAIN-20170925040422-20170925060422-00217.warc.gz\n",
      "[*] Retrieved 109807 bytes for http://news.mit.edu/\n",
      "https://commoncrawl.s3.amazonaws.com/crawl-data/CC-MAIN-2017-34/segments/1502886103910.54/warc/CC-MAIN-20170817185948-20170817205948-00170.warc.gz\n",
      "[*] Retrieved 115229 bytes for https://news.mit.edu/\n",
      "https://commoncrawl.s3.amazonaws.com/crawl-data/CC-MAIN-2017-34/segments/1502886116921.70/warc/CC-MAIN-20170823000718-20170823020718-00217.warc.gz\n",
      "[*] Retrieved 108483 bytes for http://news.mit.edu/\n",
      "https://commoncrawl.s3.amazonaws.com/crawl-data/CC-MAIN-2017-34/segments/1502886123312.44/warc/CC-MAIN-20170823171414-20170823191414-00217.warc.gz\n",
      "[*] Retrieved 114042 bytes for http://news.mit.edu/\n",
      "https://commoncrawl.s3.amazonaws.com/crawl-data/CC-MAIN-2017-30/segments/1500549423486.26/warc/CC-MAIN-20170720201925-20170720221925-00217.warc.gz\n",
      "[*] Retrieved 114462 bytes for http://news.mit.edu/\n",
      "https://commoncrawl.s3.amazonaws.com/crawl-data/CC-MAIN-2017-30/segments/1500549423764.11/warc/CC-MAIN-20170721082219-20170721102219-00217.warc.gz\n",
      "[*] Retrieved 110612 bytes for http://news.mit.edu/\n",
      "https://commoncrawl.s3.amazonaws.com/crawl-data/CC-MAIN-2017-30/segments/1500549423769.10/warc/CC-MAIN-20170721102310-20170721122310-00217.warc.gz\n",
      "[*] Retrieved 110495 bytes for http://news.mit.edu/\n",
      "https://commoncrawl.s3.amazonaws.com/crawl-data/CC-MAIN-2017-30/segments/1500549424549.12/warc/CC-MAIN-20170723102716-20170723122716-00217.warc.gz\n",
      "[*] Retrieved 115324 bytes for http://news.mit.edu/\n",
      "https://commoncrawl.s3.amazonaws.com/crawl-data/CC-MAIN-2017-30/segments/1500549428300.23/warc/CC-MAIN-20170727142514-20170727162514-00217.warc.gz\n",
      "[*] Retrieved 115281 bytes for http://news.mit.edu/\n",
      "https://commoncrawl.s3.amazonaws.com/crawl-data/CC-MAIN-2017-26/segments/1498128320049.84/warc/CC-MAIN-20170623100455-20170623120455-00217.warc.gz\n",
      "[*] Retrieved 117143 bytes for http://news.mit.edu/\n",
      "https://commoncrawl.s3.amazonaws.com/crawl-data/CC-MAIN-2017-26/segments/1498128320063.74/warc/CC-MAIN-20170623133357-20170623153357-00217.warc.gz\n",
      "[*] Retrieved 111720 bytes for http://news.mit.edu/\n",
      "https://commoncrawl.s3.amazonaws.com/crawl-data/CC-MAIN-2017-26/segments/1498128320338.89/warc/CC-MAIN-20170624203022-20170624223022-00170.warc.gz\n",
      "[*] Retrieved 118021 bytes for https://news.mit.edu/\n",
      "https://commoncrawl.s3.amazonaws.com/crawl-data/CC-MAIN-2017-26/segments/1498128323889.3/warc/CC-MAIN-20170629070237-20170629090237-00217.warc.gz\n",
      "[*] Retrieved 117670 bytes for http://news.mit.edu/\n",
      "https://commoncrawl.s3.amazonaws.com/crawl-data/CC-MAIN-2017-22/segments/1495463607648.39/warc/CC-MAIN-20170523163634-20170523183634-00028.warc.gz\n",
      "[*] Retrieved 119252 bytes for http://news.mit.edu/\n",
      "https://commoncrawl.s3.amazonaws.com/crawl-data/CC-MAIN-2017-22/segments/1495463607726.24/warc/CC-MAIN-20170524001106-20170524021106-00028.warc.gz\n",
      "[*] Retrieved 113503 bytes for http://news.mit.edu/\n",
      "https://commoncrawl.s3.amazonaws.com/crawl-data/CC-MAIN-2017-22/segments/1495463607802.75/warc/CC-MAIN-20170524055048-20170524075048-00440.warc.gz\n",
      "[*] Retrieved 118358 bytes for https://news.mit.edu/\n",
      "https://commoncrawl.s3.amazonaws.com/crawl-data/CC-MAIN-2017-22/segments/1495463607802.75/warc/CC-MAIN-20170524055048-20170524075048-00028.warc.gz\n",
      "[*] Retrieved 118506 bytes for http://news.mit.edu/\n",
      "https://commoncrawl.s3.amazonaws.com/crawl-data/CC-MAIN-2017-22/segments/1495463607963.70/warc/CC-MAIN-20170525025250-20170525045250-00028.warc.gz\n",
      "[*] Retrieved 117751 bytes for http://news.mit.edu/\n",
      "https://commoncrawl.s3.amazonaws.com/crawl-data/CC-MAIN-2017-22/segments/1495463608954.74/warc/CC-MAIN-20170527133144-20170527153144-00121.warc.gz\n",
      "[*] Retrieved 118507 bytes for http://news.mit.edu/\n",
      "https://commoncrawl.s3.amazonaws.com/crawl-data/CC-MAIN-2017-22/segments/1495463609837.56/warc/CC-MAIN-20170528141209-20170528161209-00121.warc.gz\n",
      "[*] Retrieved 115929 bytes for http://news.mit.edu/\n",
      "https://commoncrawl.s3.amazonaws.com/crawl-data/CC-MAIN-2017-22/segments/1495463612018.97/warc/CC-MAIN-20170529053338-20170529073338-00121.warc.gz\n",
      "[*] Retrieved 111443 bytes for http://news.mit.edu/\n"
     ]
    },
    {
     "name": "stdout",
     "output_type": "stream",
     "text": [
      "https://commoncrawl.s3.amazonaws.com/crawl-data/CC-MAIN-2017-17/segments/1492917120187.95/warc/CC-MAIN-20170423031200-00049-ip-10-145-167-34.ec2.internal.warc.gz\n",
      "[*] Retrieved 119058 bytes for http://news.mit.edu/\n",
      "https://commoncrawl.s3.amazonaws.com/crawl-data/CC-MAIN-2017-17/segments/1492917120878.96/warc/CC-MAIN-20170423031200-00049-ip-10-145-167-34.ec2.internal.warc.gz\n",
      "[*] Retrieved 114182 bytes for http://news.mit.edu/\n",
      "https://commoncrawl.s3.amazonaws.com/crawl-data/CC-MAIN-2017-17/segments/1492917121644.94/warc/CC-MAIN-20170423031201-00630-ip-10-145-167-34.ec2.internal.warc.gz\n",
      "[*] Retrieved 118789 bytes for https://news.mit.edu/\n",
      "https://commoncrawl.s3.amazonaws.com/crawl-data/CC-MAIN-2017-17/segments/1492917121865.67/warc/CC-MAIN-20170423031201-00049-ip-10-145-167-34.ec2.internal.warc.gz\n",
      "[*] Retrieved 111887 bytes for http://news.mit.edu/\n",
      "https://commoncrawl.s3.amazonaws.com/crawl-data/CC-MAIN-2017-17/segments/1492917121869.65/warc/CC-MAIN-20170423031201-00049-ip-10-145-167-34.ec2.internal.warc.gz\n",
      "[*] Retrieved 117018 bytes for http://news.mit.edu/\n",
      "https://commoncrawl.s3.amazonaws.com/crawl-data/CC-MAIN-2017-17/segments/1492917122167.63/warc/CC-MAIN-20170423031202-00049-ip-10-145-167-34.ec2.internal.warc.gz\n",
      "[*] Retrieved 111763 bytes for http://news.mit.edu/\n",
      "https://commoncrawl.s3.amazonaws.com/crawl-data/CC-MAIN-2017-17/segments/1492917125074.20/warc/CC-MAIN-20170423031205-00049-ip-10-145-167-34.ec2.internal.warc.gz\n",
      "[*] Retrieved 114786 bytes for http://news.mit.edu/\n",
      "https://commoncrawl.s3.amazonaws.com/crawl-data/CC-MAIN-2017-13/segments/1490218187227.84/warc/CC-MAIN-20170322212947-00660-ip-10-233-31-227.ec2.internal.warc.gz\n",
      "[*] Retrieved 115694 bytes for https://news.mit.edu/\n",
      "https://commoncrawl.s3.amazonaws.com/crawl-data/CC-MAIN-2017-13/segments/1490218188962.14/warc/CC-MAIN-20170322212948-00377-ip-10-233-31-227.ec2.internal.warc.gz\n",
      "[*] Retrieved 115906 bytes for http://news.mit.edu/\n",
      "https://commoncrawl.s3.amazonaws.com/crawl-data/CC-MAIN-2017-13/segments/1490218189214.2/warc/CC-MAIN-20170322212949-00377-ip-10-233-31-227.ec2.internal.warc.gz\n",
      "[*] Retrieved 116332 bytes for http://news.mit.edu/\n",
      "https://commoncrawl.s3.amazonaws.com/crawl-data/CC-MAIN-2017-13/segments/1490218189680.78/warc/CC-MAIN-20170322212949-00377-ip-10-233-31-227.ec2.internal.warc.gz\n",
      "[*] Retrieved 116427 bytes for http://news.mit.edu/\n",
      "https://commoncrawl.s3.amazonaws.com/crawl-data/CC-MAIN-2017-13/segments/1490218191396.90/warc/CC-MAIN-20170322212951-00377-ip-10-233-31-227.ec2.internal.warc.gz\n",
      "[*] Retrieved 113227 bytes for http://news.mit.edu/\n",
      "https://commoncrawl.s3.amazonaws.com/crawl-data/CC-MAIN-2017-09/segments/1487501170434.7/warc/CC-MAIN-20170219104610-00161-ip-10-171-10-108.ec2.internal.warc.gz\n",
      "[*] Retrieved 114733 bytes for http://news.mit.edu/\n",
      "https://commoncrawl.s3.amazonaws.com/crawl-data/CC-MAIN-2017-09/segments/1487501170823.55/warc/CC-MAIN-20170219104610-00161-ip-10-171-10-108.ec2.internal.warc.gz\n",
      "[*] Retrieved 117291 bytes for http://news.mit.edu/\n",
      "https://commoncrawl.s3.amazonaws.com/crawl-data/CC-MAIN-2017-09/segments/1487501170992.17/warc/CC-MAIN-20170219104610-00161-ip-10-171-10-108.ec2.internal.warc.gz\n",
      "[*] Retrieved 116590 bytes for http://news.mit.edu/\n",
      "https://commoncrawl.s3.amazonaws.com/crawl-data/CC-MAIN-2017-09/segments/1487501171163.39/warc/CC-MAIN-20170219104611-00161-ip-10-171-10-108.ec2.internal.warc.gz\n",
      "[*] Retrieved 113460 bytes for http://news.mit.edu/\n",
      "https://commoncrawl.s3.amazonaws.com/crawl-data/CC-MAIN-2017-09/segments/1487501171632.91/warc/CC-MAIN-20170219104611-00161-ip-10-171-10-108.ec2.internal.warc.gz\n",
      "[*] Retrieved 117581 bytes for http://news.mit.edu/\n",
      "https://commoncrawl.s3.amazonaws.com/crawl-data/CC-MAIN-2017-09/segments/1487501171936.2/warc/CC-MAIN-20170219104611-00161-ip-10-171-10-108.ec2.internal.warc.gz\n",
      "[*] Retrieved 113624 bytes for http://news.mit.edu/\n",
      "https://commoncrawl.s3.amazonaws.com/crawl-data/CC-MAIN-2017-09/segments/1487501172017.60/warc/CC-MAIN-20170219104612-00161-ip-10-171-10-108.ec2.internal.warc.gz\n",
      "[*] Retrieved 117504 bytes for http://news.mit.edu/\n",
      "https://commoncrawl.s3.amazonaws.com/crawl-data/CC-MAIN-2017-09/segments/1487501172077.66/warc/CC-MAIN-20170219104612-00161-ip-10-171-10-108.ec2.internal.warc.gz\n",
      "[*] Retrieved 113132 bytes for http://news.mit.edu/\n",
      "https://commoncrawl.s3.amazonaws.com/crawl-data/CC-MAIN-2017-09/segments/1487501172156.69/warc/CC-MAIN-20170219104612-00114-ip-10-171-10-108.ec2.internal.warc.gz\n",
      "[*] Retrieved 117739 bytes for https://news.mit.edu/\n",
      "https://commoncrawl.s3.amazonaws.com/crawl-data/CC-MAIN-2017-09/segments/1487501172156.69/warc/CC-MAIN-20170219104612-00161-ip-10-171-10-108.ec2.internal.warc.gz\n",
      "[*] Retrieved 117581 bytes for http://news.mit.edu/\n",
      "https://commoncrawl.s3.amazonaws.com/crawl-data/CC-MAIN-2017-09/segments/1487501174124.9/warc/CC-MAIN-20170219104614-00161-ip-10-171-10-108.ec2.internal.warc.gz\n",
      "[*] Retrieved 113101 bytes for http://news.mit.edu/\n",
      "https://commoncrawl.s3.amazonaws.com/crawl-data/CC-MAIN-2017-09/segments/1487501174154.34/warc/CC-MAIN-20170219104614-00161-ip-10-171-10-108.ec2.internal.warc.gz\n",
      "[*] Retrieved 118427 bytes for http://news.mit.edu/\n",
      "https://commoncrawl.s3.amazonaws.com/crawl-data/CC-MAIN-2017-04/segments/1484560280730.27/warc/CC-MAIN-20170116095120-00029-ip-10-171-10-70.ec2.internal.warc.gz\n",
      "[*] Retrieved 110786 bytes for http://news.mit.edu/\n",
      "https://commoncrawl.s3.amazonaws.com/crawl-data/CC-MAIN-2017-04/segments/1484560280761.39/warc/CC-MAIN-20170116095120-00029-ip-10-171-10-70.ec2.internal.warc.gz\n",
      "[*] Retrieved 111310 bytes for http://news.mit.edu/\n",
      "https://commoncrawl.s3.amazonaws.com/crawl-data/CC-MAIN-2017-04/segments/1484560280835.22/warc/CC-MAIN-20170116095120-00029-ip-10-171-10-70.ec2.internal.warc.gz\n",
      "[*] Retrieved 110150 bytes for http://news.mit.edu/\n",
      "https://commoncrawl.s3.amazonaws.com/crawl-data/CC-MAIN-2017-04/segments/1484560280888.62/warc/CC-MAIN-20170116095120-00029-ip-10-171-10-70.ec2.internal.warc.gz\n",
      "[*] Retrieved 110420 bytes for http://news.mit.edu/\n",
      "https://commoncrawl.s3.amazonaws.com/crawl-data/CC-MAIN-2017-04/segments/1484560283301.73/warc/CC-MAIN-20170116095123-00016-ip-10-171-10-70.ec2.internal.warc.gz\n",
      "[*] Retrieved 110176 bytes for https://news.mit.edu/\n",
      "[*] trying target domain aitopics.com\n",
      "<Response [404]>\n",
      "<Response [404]>\n",
      "<Response [404]>\n",
      "<Response [404]>\n",
      "<Response [404]>\n",
      "<Response [404]>\n",
      "<Response [404]>\n",
      "<Response [404]>\n",
      "<Response [404]>\n",
      "<Response [404]>\n",
      "[*] Found a total of 0 hits.\n",
      "[*] trying target domain mlweekly.com\n",
      "<Response [200]>\n",
      "[*] Added 1 results.\n",
      "<Response [200]>\n",
      "[*] Added 1 results.\n",
      "<Response [200]>\n",
      "[*] Added 1 results.\n",
      "<Response [200]>\n",
      "[*] Added 4 results.\n",
      "<Response [200]>\n",
      "[*] Added 1 results.\n",
      "<Response [200]>\n",
      "[*] Added 1 results.\n",
      "<Response [200]>\n",
      "[*] Added 1 results.\n",
      "<Response [200]>\n",
      "[*] Added 1 results.\n",
      "<Response [200]>\n",
      "[*] Added 1 results.\n",
      "<Response [200]>\n",
      "[*] Added 1 results.\n",
      "[*] Found a total of 13 hits.\n",
      "https://commoncrawl.s3.amazonaws.com/crawl-data/CC-MAIN-2017-43/segments/1508187825510.59/warc/CC-MAIN-20171023020721-20171023040721-00691.warc.gz\n",
      "[*] Retrieved 24503 bytes for http://mlweekly.com/\n",
      "https://commoncrawl.s3.amazonaws.com/crawl-data/CC-MAIN-2017-39/segments/1505818689411.82/warc/CC-MAIN-20170922235700-20170923015700-00331.warc.gz\n",
      "[*] Retrieved 22729 bytes for http://mlweekly.com/\n",
      "https://commoncrawl.s3.amazonaws.com/crawl-data/CC-MAIN-2017-34/segments/1502886133042.90/warc/CC-MAIN-20170824062820-20170824082820-00331.warc.gz\n",
      "[*] Retrieved 24519 bytes for http://mlweekly.com/\n",
      "https://commoncrawl.s3.amazonaws.com/crawl-data/CC-MAIN-2017-30/segments/1500549424148.78/robotstxt/CC-MAIN-20170722202635-20170722222635-00011.warc.gz\n",
      "[*] Retrieved 24303 bytes for http://www.mlweekly.com\n",
      "https://commoncrawl.s3.amazonaws.com/crawl-data/CC-MAIN-2017-30/segments/1500549424148.78/crawldiagnostics/CC-MAIN-20170722202635-20170722222635-00331.warc.gz\n",
      "[*] Retrieved 44 bytes for http://mlweekly.com/\n",
      "https://commoncrawl.s3.amazonaws.com/crawl-data/CC-MAIN-2017-30/segments/1500549424148.78/warc/CC-MAIN-20170722202635-20170722222635-00596.warc.gz\n",
      "[*] Retrieved 25780 bytes for http://www.mlweekly.com/\n",
      "https://commoncrawl.s3.amazonaws.com/crawl-data/CC-MAIN-2017-30/segments/1500549426951.85/robotstxt/CC-MAIN-20170727022134-20170727042134-00011.warc.gz\n",
      "[*] Retrieved 25165 bytes for http://www.mlweekly.com\n"
     ]
    },
    {
     "name": "stdout",
     "output_type": "stream",
     "text": [
      "https://commoncrawl.s3.amazonaws.com/crawl-data/CC-MAIN-2017-26/segments/1498128322275.28/warc/CC-MAIN-20170628014207-20170628034207-00331.warc.gz\n",
      "[*] Retrieved 24519 bytes for http://mlweekly.com/\n",
      "https://commoncrawl.s3.amazonaws.com/crawl-data/CC-MAIN-2017-22/segments/1495463608870.18/warc/CC-MAIN-20170527055922-20170527075922-00459.warc.gz\n",
      "[*] Retrieved 22440 bytes for http://mlweekly.com/\n",
      "https://commoncrawl.s3.amazonaws.com/crawl-data/CC-MAIN-2017-17/segments/1492917122621.35/warc/CC-MAIN-20170423031202-00191-ip-10-145-167-34.ec2.internal.warc.gz\n",
      "[*] Retrieved 23633 bytes for http://mlweekly.com/\n",
      "https://commoncrawl.s3.amazonaws.com/crawl-data/CC-MAIN-2017-13/segments/1490218189032.76/warc/CC-MAIN-20170322212949-00136-ip-10-233-31-227.ec2.internal.warc.gz\n",
      "[*] Retrieved 23406 bytes for http://mlweekly.com/\n",
      "https://commoncrawl.s3.amazonaws.com/crawl-data/CC-MAIN-2017-09/segments/1487501170624.14/warc/CC-MAIN-20170219104610-00155-ip-10-171-10-108.ec2.internal.warc.gz\n",
      "[*] Retrieved 24640 bytes for http://mlweekly.com/\n",
      "https://commoncrawl.s3.amazonaws.com/crawl-data/CC-MAIN-2017-04/segments/1484560280899.42/warc/CC-MAIN-20170116095120-00331-ip-10-171-10-70.ec2.internal.warc.gz\n",
      "[*] Retrieved 20531 bytes for http://mlweekly.com/\n",
      "[*] trying target domain machinelearning.co\n",
      "<Response [404]>\n",
      "<Response [404]>\n",
      "<Response [404]>\n",
      "<Response [404]>\n",
      "<Response [404]>\n",
      "<Response [404]>\n",
      "<Response [404]>\n",
      "<Response [404]>\n",
      "<Response [404]>\n",
      "<Response [404]>\n",
      "[*] Found a total of 0 hits.\n",
      "[*] trying target domain artificial-intelligence.blog\n",
      "<Response [200]>\n",
      "[*] Added 2 results.\n",
      "<Response [200]>\n",
      "[*] Added 2 results.\n",
      "<Response [200]>\n",
      "[*] Added 1 results.\n",
      "<Response [404]>\n",
      "<Response [200]>\n",
      "[*] Added 3 results.\n",
      "<Response [404]>\n",
      "<Response [404]>\n",
      "<Response [404]>\n",
      "<Response [404]>\n",
      "<Response [404]>\n",
      "[*] Found a total of 8 hits.\n",
      "https://commoncrawl.s3.amazonaws.com/crawl-data/CC-MAIN-2017-43/segments/1508187823284.50/crawldiagnostics/CC-MAIN-20171019122155-20171019142155-00688.warc.gz\n",
      "[*] Retrieved 0 bytes for http://artificial-intelligence.blog/\n",
      "https://commoncrawl.s3.amazonaws.com/crawl-data/CC-MAIN-2017-43/segments/1508187823284.50/warc/CC-MAIN-20171019122155-20171019142155-00338.warc.gz\n",
      "[*] Retrieved 248882 bytes for https://www.artificial-intelligence.blog/\n",
      "https://commoncrawl.s3.amazonaws.com/crawl-data/CC-MAIN-2017-39/segments/1505818687324.6/crawldiagnostics/CC-MAIN-20170920142244-20170920162244-00688.warc.gz\n",
      "[*] Retrieved 0 bytes for http://artificial-intelligence.blog/\n",
      "https://commoncrawl.s3.amazonaws.com/crawl-data/CC-MAIN-2017-39/segments/1505818687324.6/warc/CC-MAIN-20170920142244-20170920162244-00698.warc.gz\n",
      "[*] Retrieved 247795 bytes for https://www.artificial-intelligence.blog/\n",
      "https://commoncrawl.s3.amazonaws.com/crawl-data/CC-MAIN-2017-34/segments/1502886106984.52/warc/CC-MAIN-20170820185216-20170820205216-00698.warc.gz\n",
      "[*] Retrieved 221786 bytes for https://www.artificial-intelligence.blog/\n",
      "https://commoncrawl.s3.amazonaws.com/crawl-data/CC-MAIN-2017-26/segments/1498128320201.43/crawldiagnostics/CC-MAIN-20170623220935-20170624000935-00688.warc.gz\n",
      "[*] Retrieved 0 bytes for http://artificial-intelligence.blog/\n",
      "https://commoncrawl.s3.amazonaws.com/crawl-data/CC-MAIN-2017-26/segments/1498128320201.43/warc/CC-MAIN-20170623220935-20170624000935-00698.warc.gz\n",
      "[*] Retrieved 237386 bytes for https://www.artificial-intelligence.blog/\n",
      "https://commoncrawl.s3.amazonaws.com/crawl-data/CC-MAIN-2017-26/segments/1498128321306.65/warc/CC-MAIN-20170627083142-20170627103142-00698.warc.gz\n",
      "[*] Retrieved 237424 bytes for https://www.artificial-intelligence.blog/\n",
      "[*] trying target domain chatbotsmagazine.com\n",
      "<Response [200]>\n",
      "[*] Added 2 results.\n",
      "<Response [200]>\n",
      "[*] Added 2 results.\n",
      "<Response [200]>\n",
      "[*] Added 2 results.\n",
      "<Response [200]>\n",
      "[*] Added 2 results.\n",
      "<Response [200]>\n",
      "[*] Added 3 results.\n",
      "<Response [200]>\n",
      "[*] Added 2 results.\n",
      "<Response [200]>\n",
      "[*] Added 2 results.\n",
      "<Response [404]>\n",
      "<Response [200]>\n",
      "[*] Added 2 results.\n",
      "<Response [200]>\n",
      "[*] Added 2 results.\n",
      "[*] Found a total of 19 hits.\n",
      "https://commoncrawl.s3.amazonaws.com/crawl-data/CC-MAIN-2017-43/segments/1508187823478.54/crawldiagnostics/CC-MAIN-20171019212946-20171019232946-00559.warc.gz\n",
      "[*] Retrieved 176 bytes for http://chatbotsmagazine.com/\n",
      "https://commoncrawl.s3.amazonaws.com/crawl-data/CC-MAIN-2017-43/segments/1508187823478.54/crawldiagnostics/CC-MAIN-20171019212946-20171019232946-00136.warc.gz\n",
      "[*] Retrieved 152 bytes for https://chatbotsmagazine.com/\n",
      "https://commoncrawl.s3.amazonaws.com/crawl-data/CC-MAIN-2017-39/segments/1505818686077.22/crawldiagnostics/CC-MAIN-20170919235817-20170920015817-00019.warc.gz\n",
      "[*] Retrieved 176 bytes for http://chatbotsmagazine.com/\n",
      "https://commoncrawl.s3.amazonaws.com/crawl-data/CC-MAIN-2017-39/segments/1505818686077.22/crawldiagnostics/CC-MAIN-20170919235817-20170920015817-00676.warc.gz\n",
      "[*] Retrieved 152 bytes for https://chatbotsmagazine.com/\n",
      "https://commoncrawl.s3.amazonaws.com/crawl-data/CC-MAIN-2017-34/segments/1502886109803.8/crawldiagnostics/CC-MAIN-20170822011838-20170822031838-00019.warc.gz\n",
      "[*] Retrieved 176 bytes for http://chatbotsmagazine.com/\n",
      "https://commoncrawl.s3.amazonaws.com/crawl-data/CC-MAIN-2017-34/segments/1502886109803.8/crawldiagnostics/CC-MAIN-20170822011838-20170822031838-00676.warc.gz\n",
      "[*] Retrieved 152 bytes for https://chatbotsmagazine.com/\n",
      "https://commoncrawl.s3.amazonaws.com/crawl-data/CC-MAIN-2017-30/segments/1500549425082.56/crawldiagnostics/CC-MAIN-20170725062346-20170725082346-00019.warc.gz\n",
      "[*] Retrieved 176 bytes for http://chatbotsmagazine.com/\n",
      "https://commoncrawl.s3.amazonaws.com/crawl-data/CC-MAIN-2017-30/segments/1500549425082.56/crawldiagnostics/CC-MAIN-20170725062346-20170725082346-00676.warc.gz\n",
      "[*] Retrieved 152 bytes for https://chatbotsmagazine.com/\n",
      "https://commoncrawl.s3.amazonaws.com/crawl-data/CC-MAIN-2017-26/segments/1498128319688.9/crawldiagnostics/CC-MAIN-20170622181155-20170622201155-00019.warc.gz\n",
      "[*] Retrieved 176 bytes for http://chatbotsmagazine.com/\n",
      "https://commoncrawl.s3.amazonaws.com/crawl-data/CC-MAIN-2017-26/segments/1498128319688.9/crawldiagnostics/CC-MAIN-20170622181155-20170622201155-00676.warc.gz\n",
      "[*] Retrieved 152 bytes for https://chatbotsmagazine.com/\n",
      "https://commoncrawl.s3.amazonaws.com/crawl-data/CC-MAIN-2017-26/segments/1498128322320.8/crawldiagnostics/CC-MAIN-20170628032529-20170628052529-00676.warc.gz\n",
      "[*] Retrieved 152 bytes for https://chatbotsmagazine.com/\n",
      "https://commoncrawl.s3.amazonaws.com/crawl-data/CC-MAIN-2017-22/segments/1495463607860.7/crawldiagnostics/CC-MAIN-20170524192431-20170524212431-00361.warc.gz\n",
      "[*] Retrieved 176 bytes for http://chatbotsmagazine.com/\n",
      "https://commoncrawl.s3.amazonaws.com/crawl-data/CC-MAIN-2017-22/segments/1495463607860.7/crawldiagnostics/CC-MAIN-20170524192431-20170524212431-00586.warc.gz\n",
      "[*] Retrieved 152 bytes for https://chatbotsmagazine.com/\n",
      "https://commoncrawl.s3.amazonaws.com/crawl-data/CC-MAIN-2017-17/segments/1492917127681.50/crawldiagnostics/CC-MAIN-20170423031207-00392-ip-10-145-167-34.ec2.internal.warc.gz\n",
      "[*] Retrieved 176 bytes for http://chatbotsmagazine.com/\n",
      "https://commoncrawl.s3.amazonaws.com/crawl-data/CC-MAIN-2017-17/segments/1492917127681.50/crawldiagnostics/CC-MAIN-20170423031207-00475-ip-10-145-167-34.ec2.internal.warc.gz\n",
      "[*] Retrieved 152 bytes for https://chatbotsmagazine.com/\n",
      "https://commoncrawl.s3.amazonaws.com/crawl-data/CC-MAIN-2017-09/segments/1487501173866.98/crawldiagnostics/CC-MAIN-20170219104613-00620-ip-10-171-10-108.ec2.internal.warc.gz\n",
      "[*] Retrieved 152 bytes for https://chatbotsmagazine.com/\n",
      "https://commoncrawl.s3.amazonaws.com/crawl-data/CC-MAIN-2017-09/segments/1487501173866.98/crawldiagnostics/CC-MAIN-20170219104613-00335-ip-10-171-10-108.ec2.internal.warc.gz\n",
      "[*] Retrieved 176 bytes for http://chatbotsmagazine.com/\n",
      "https://commoncrawl.s3.amazonaws.com/crawl-data/CC-MAIN-2017-04/segments/1484560279379.41/crawldiagnostics/CC-MAIN-20170116095119-00567-ip-10-171-10-70.ec2.internal.warc.gz\n",
      "[*] Retrieved 176 bytes for http://chatbotsmagazine.com/\n",
      "https://commoncrawl.s3.amazonaws.com/crawl-data/CC-MAIN-2017-04/segments/1484560279379.41/crawldiagnostics/CC-MAIN-20170116095119-00044-ip-10-171-10-70.ec2.internal.warc.gz\n",
      "[*] Retrieved 152 bytes for https://chatbotsmagazine.com/\n"
     ]
    }
   ],
   "source": [
    "link_list = []\n",
    "for domains in domain:\n",
    "    record_list = search_domain(domains)\n",
    "    for record in record_list:\n",
    "        html_content = download_data(record)\n",
    "        print(\"[*] Retrieved {0} bytes for {1}\".format(len(html_content),record['url']))\n",
    "        link_list = extract_html(html_content,link_list)\n",
    "    \n",
    "        #print(\"[*] Total external links discovered: {0}\".format(len(link_list)))\n",
    "        #try:\n",
    "         #   with io.open(\"WebScrapper-texts.csv\",\"a+\") as output:\n",
    "    \n",
    "          #      fields = [\"URL\"]\n",
    "    \n",
    "           #     logger = csv.DictWriter(output,fieldnames=fields)\n",
    "           #     logger.writeheader()\n",
    "        \n",
    "            #    for link in link_list:\n",
    "             #       logger.writerow({\"URL\": link})\n",
    "        #except:\n",
    "         #   pass\n",
    "          "
   ]
  },
  {
   "cell_type": "markdown",
   "metadata": {},
   "source": [
    "# Part A - Creation of Database"
   ]
  },
  {
   "cell_type": "markdown",
   "metadata": {},
   "source": [
    "We are using MongoDB local database server, in which we store the data"
   ]
  },
  {
   "cell_type": "code",
   "execution_count": 7,
   "metadata": {},
   "outputs": [
    {
     "name": "stdout",
     "output_type": "stream",
     "text": [
      "Connected successfully!!!\n"
     ]
    },
    {
     "data": {
      "text/plain": [
       "MongoClient(host=['localhost:27017'], document_class=dict, tz_aware=False, connect=True)"
      ]
     },
     "execution_count": 7,
     "metadata": {},
     "output_type": "execute_result"
    }
   ],
   "source": [
    "import pymongo\n",
    "\n",
    "# Connection to Mongo DB\n",
    "try:\n",
    "    conn=pymongo.MongoClient()\n",
    "    print (\"Connected successfully!!!\")\n",
    "except pymongo.errors.ConnectionFailure as e:\n",
    "    print(\"Could not connect to MongoDB: {0}\").format(e)\n",
    "conn"
   ]
  },
  {
   "cell_type": "code",
   "execution_count": 8,
   "metadata": {},
   "outputs": [
    {
     "data": {
      "text/plain": [
       "Database(MongoClient(host=['localhost:27017'], document_class=dict, tz_aware=False, connect=True), 'textMining')"
      ]
     },
     "execution_count": 8,
     "metadata": {},
     "output_type": "execute_result"
    }
   ],
   "source": [
    "db = conn['textMining']\n",
    "db"
   ]
  },
  {
   "cell_type": "markdown",
   "metadata": {},
   "source": [
    "Create Database"
   ]
  },
  {
   "cell_type": "code",
   "execution_count": 10,
   "metadata": {
    "collapsed": true
   },
   "outputs": [],
   "source": [
    "db = conn.text_mining"
   ]
  },
  {
   "cell_type": "code",
   "execution_count": 11,
   "metadata": {
    "collapsed": true
   },
   "outputs": [],
   "source": [
    "text_table = db.text_table"
   ]
  },
  {
   "cell_type": "markdown",
   "metadata": {},
   "source": [
    "# Part B - Execution of common queries and their execution time"
   ]
  },
  {
   "cell_type": "code",
   "execution_count": null,
   "metadata": {
    "collapsed": true
   },
   "outputs": [],
   "source": [
    "Insert Command"
   ]
  },
  {
   "cell_type": "code",
   "execution_count": 12,
   "metadata": {},
   "outputs": [
    {
     "ename": "ServerSelectionTimeoutError",
     "evalue": "localhost:27017: [WinError 10061] No connection could be made because the target machine actively refused it",
     "output_type": "error",
     "traceback": [
      "\u001b[1;31m---------------------------------------------------------------------------\u001b[0m",
      "\u001b[1;31mServerSelectionTimeoutError\u001b[0m               Traceback (most recent call last)",
      "\u001b[1;32m<ipython-input-12-ef6e62d12a7f>\u001b[0m in \u001b[0;36m<module>\u001b[1;34m()\u001b[0m\n\u001b[0;32m      3\u001b[0m     \u001b[0mdata\u001b[0m\u001b[1;33m[\u001b[0m\u001b[1;34m'text/url'\u001b[0m\u001b[1;33m]\u001b[0m \u001b[1;33m=\u001b[0m \u001b[0mlink\u001b[0m\u001b[1;33m\u001b[0m\u001b[0m\n\u001b[0;32m      4\u001b[0m     \u001b[1;31m#insert data\u001b[0m\u001b[1;33m\u001b[0m\u001b[1;33m\u001b[0m\u001b[0m\n\u001b[1;32m----> 5\u001b[1;33m     \u001b[0mtext_table\u001b[0m\u001b[1;33m.\u001b[0m\u001b[0minsert_one\u001b[0m\u001b[1;33m(\u001b[0m\u001b[0mdata\u001b[0m\u001b[1;33m)\u001b[0m\u001b[1;33m\u001b[0m\u001b[0m\n\u001b[0m",
      "\u001b[1;32mC:\\Users\\Tushar\\Anaconda3\\lib\\site-packages\\pymongo\\collection.py\u001b[0m in \u001b[0;36minsert_one\u001b[1;34m(self, document, bypass_document_validation)\u001b[0m\n\u001b[0;32m    652\u001b[0m         \u001b[1;32mif\u001b[0m \u001b[1;32mnot\u001b[0m \u001b[1;33m(\u001b[0m\u001b[0misinstance\u001b[0m\u001b[1;33m(\u001b[0m\u001b[0mdocument\u001b[0m\u001b[1;33m,\u001b[0m \u001b[0mRawBSONDocument\u001b[0m\u001b[1;33m)\u001b[0m \u001b[1;32mor\u001b[0m \u001b[1;34m\"_id\"\u001b[0m \u001b[1;32min\u001b[0m \u001b[0mdocument\u001b[0m\u001b[1;33m)\u001b[0m\u001b[1;33m:\u001b[0m\u001b[1;33m\u001b[0m\u001b[0m\n\u001b[0;32m    653\u001b[0m             \u001b[0mdocument\u001b[0m\u001b[1;33m[\u001b[0m\u001b[1;34m\"_id\"\u001b[0m\u001b[1;33m]\u001b[0m \u001b[1;33m=\u001b[0m \u001b[0mObjectId\u001b[0m\u001b[1;33m(\u001b[0m\u001b[1;33m)\u001b[0m\u001b[1;33m\u001b[0m\u001b[0m\n\u001b[1;32m--> 654\u001b[1;33m         \u001b[1;32mwith\u001b[0m \u001b[0mself\u001b[0m\u001b[1;33m.\u001b[0m\u001b[0m_socket_for_writes\u001b[0m\u001b[1;33m(\u001b[0m\u001b[1;33m)\u001b[0m \u001b[1;32mas\u001b[0m \u001b[0msock_info\u001b[0m\u001b[1;33m:\u001b[0m\u001b[1;33m\u001b[0m\u001b[0m\n\u001b[0m\u001b[0;32m    655\u001b[0m             return InsertOneResult(\n\u001b[0;32m    656\u001b[0m                 self._insert(sock_info, document,\n",
      "\u001b[1;32mC:\\Users\\Tushar\\Anaconda3\\lib\\contextlib.py\u001b[0m in \u001b[0;36m__enter__\u001b[1;34m(self)\u001b[0m\n\u001b[0;32m     80\u001b[0m     \u001b[1;32mdef\u001b[0m \u001b[0m__enter__\u001b[0m\u001b[1;33m(\u001b[0m\u001b[0mself\u001b[0m\u001b[1;33m)\u001b[0m\u001b[1;33m:\u001b[0m\u001b[1;33m\u001b[0m\u001b[0m\n\u001b[0;32m     81\u001b[0m         \u001b[1;32mtry\u001b[0m\u001b[1;33m:\u001b[0m\u001b[1;33m\u001b[0m\u001b[0m\n\u001b[1;32m---> 82\u001b[1;33m             \u001b[1;32mreturn\u001b[0m \u001b[0mnext\u001b[0m\u001b[1;33m(\u001b[0m\u001b[0mself\u001b[0m\u001b[1;33m.\u001b[0m\u001b[0mgen\u001b[0m\u001b[1;33m)\u001b[0m\u001b[1;33m\u001b[0m\u001b[0m\n\u001b[0m\u001b[0;32m     83\u001b[0m         \u001b[1;32mexcept\u001b[0m \u001b[0mStopIteration\u001b[0m\u001b[1;33m:\u001b[0m\u001b[1;33m\u001b[0m\u001b[0m\n\u001b[0;32m     84\u001b[0m             \u001b[1;32mraise\u001b[0m \u001b[0mRuntimeError\u001b[0m\u001b[1;33m(\u001b[0m\u001b[1;34m\"generator didn't yield\"\u001b[0m\u001b[1;33m)\u001b[0m \u001b[1;32mfrom\u001b[0m \u001b[1;32mNone\u001b[0m\u001b[1;33m\u001b[0m\u001b[0m\n",
      "\u001b[1;32mC:\\Users\\Tushar\\Anaconda3\\lib\\site-packages\\pymongo\\mongo_client.py\u001b[0m in \u001b[0;36m_get_socket\u001b[1;34m(self, selector)\u001b[0m\n\u001b[0;32m    821\u001b[0m     \u001b[1;33m@\u001b[0m\u001b[0mcontextlib\u001b[0m\u001b[1;33m.\u001b[0m\u001b[0mcontextmanager\u001b[0m\u001b[1;33m\u001b[0m\u001b[0m\n\u001b[0;32m    822\u001b[0m     \u001b[1;32mdef\u001b[0m \u001b[0m_get_socket\u001b[0m\u001b[1;33m(\u001b[0m\u001b[0mself\u001b[0m\u001b[1;33m,\u001b[0m \u001b[0mselector\u001b[0m\u001b[1;33m)\u001b[0m\u001b[1;33m:\u001b[0m\u001b[1;33m\u001b[0m\u001b[0m\n\u001b[1;32m--> 823\u001b[1;33m         \u001b[0mserver\u001b[0m \u001b[1;33m=\u001b[0m \u001b[0mself\u001b[0m\u001b[1;33m.\u001b[0m\u001b[0m_get_topology\u001b[0m\u001b[1;33m(\u001b[0m\u001b[1;33m)\u001b[0m\u001b[1;33m.\u001b[0m\u001b[0mselect_server\u001b[0m\u001b[1;33m(\u001b[0m\u001b[0mselector\u001b[0m\u001b[1;33m)\u001b[0m\u001b[1;33m\u001b[0m\u001b[0m\n\u001b[0m\u001b[0;32m    824\u001b[0m         \u001b[1;32mtry\u001b[0m\u001b[1;33m:\u001b[0m\u001b[1;33m\u001b[0m\u001b[0m\n\u001b[0;32m    825\u001b[0m             \u001b[1;32mwith\u001b[0m \u001b[0mserver\u001b[0m\u001b[1;33m.\u001b[0m\u001b[0mget_socket\u001b[0m\u001b[1;33m(\u001b[0m\u001b[0mself\u001b[0m\u001b[1;33m.\u001b[0m\u001b[0m__all_credentials\u001b[0m\u001b[1;33m)\u001b[0m \u001b[1;32mas\u001b[0m \u001b[0msock_info\u001b[0m\u001b[1;33m:\u001b[0m\u001b[1;33m\u001b[0m\u001b[0m\n",
      "\u001b[1;32mC:\\Users\\Tushar\\Anaconda3\\lib\\site-packages\\pymongo\\topology.py\u001b[0m in \u001b[0;36mselect_server\u001b[1;34m(self, selector, server_selection_timeout, address)\u001b[0m\n\u001b[0;32m    212\u001b[0m         return random.choice(self.select_servers(selector,\n\u001b[0;32m    213\u001b[0m                                                  \u001b[0mserver_selection_timeout\u001b[0m\u001b[1;33m,\u001b[0m\u001b[1;33m\u001b[0m\u001b[0m\n\u001b[1;32m--> 214\u001b[1;33m                                                  address))\n\u001b[0m\u001b[0;32m    215\u001b[0m \u001b[1;33m\u001b[0m\u001b[0m\n\u001b[0;32m    216\u001b[0m     def select_server_by_address(self, address,\n",
      "\u001b[1;32mC:\\Users\\Tushar\\Anaconda3\\lib\\site-packages\\pymongo\\topology.py\u001b[0m in \u001b[0;36mselect_servers\u001b[1;34m(self, selector, server_selection_timeout, address)\u001b[0m\n\u001b[0;32m    187\u001b[0m                 \u001b[1;32mif\u001b[0m \u001b[0mserver_timeout\u001b[0m \u001b[1;33m==\u001b[0m \u001b[1;36m0\u001b[0m \u001b[1;32mor\u001b[0m \u001b[0mnow\u001b[0m \u001b[1;33m>\u001b[0m \u001b[0mend_time\u001b[0m\u001b[1;33m:\u001b[0m\u001b[1;33m\u001b[0m\u001b[0m\n\u001b[0;32m    188\u001b[0m                     raise ServerSelectionTimeoutError(\n\u001b[1;32m--> 189\u001b[1;33m                         self._error_message(selector))\n\u001b[0m\u001b[0;32m    190\u001b[0m \u001b[1;33m\u001b[0m\u001b[0m\n\u001b[0;32m    191\u001b[0m                 \u001b[0mself\u001b[0m\u001b[1;33m.\u001b[0m\u001b[0m_ensure_opened\u001b[0m\u001b[1;33m(\u001b[0m\u001b[1;33m)\u001b[0m\u001b[1;33m\u001b[0m\u001b[0m\n",
      "\u001b[1;31mServerSelectionTimeoutError\u001b[0m: localhost:27017: [WinError 10061] No connection could be made because the target machine actively refused it"
     ]
    }
   ],
   "source": [
    "for link in link_list:\n",
    "    data = {}\n",
    "    data['text/url'] = link\n",
    "    #insert data\n",
    "    text_table.insert_one(data)"
   ]
  },
  {
   "cell_type": "markdown",
   "metadata": {},
   "source": [
    "data"
   ]
  },
  {
   "cell_type": "code",
   "execution_count": null,
   "metadata": {
    "collapsed": true
   },
   "outputs": [],
   "source": [
    "text_table.count()"
   ]
  },
  {
   "cell_type": "code",
   "execution_count": null,
   "metadata": {
    "collapsed": true
   },
   "outputs": [],
   "source": [
    "#Find 2 rows from last\n",
    "for d in text_table.find()[:2]:\n",
    "    print (d)"
   ]
  },
  {
   "cell_type": "code",
   "execution_count": null,
   "metadata": {
    "collapsed": true
   },
   "outputs": [],
   "source": [
    "#Find count of rows based on query\n",
    "text_table.find({'text/url':'301 Moved Permanently'}).count()"
   ]
  },
  {
   "cell_type": "code",
   "execution_count": null,
   "metadata": {
    "collapsed": true
   },
   "outputs": [],
   "source": [
    "text_table.find({'text/url':'301 Moved Permanently'}).explain()"
   ]
  },
  {
   "cell_type": "code",
   "execution_count": null,
   "metadata": {
    "collapsed": true
   },
   "outputs": [],
   "source": [
    "#Update command\n",
    "text_table.insert({'_id':12345,'text/url':'301'})"
   ]
  },
  {
   "cell_type": "code",
   "execution_count": null,
   "metadata": {
    "collapsed": true
   },
   "outputs": [],
   "source": [
    "text_table.update({'_id':1234},{'text/url':'URL'})\n",
    "\n",
    "text_table.find_one({'_id':1234})"
   ]
  },
  {
   "cell_type": "code",
   "execution_count": null,
   "metadata": {
    "collapsed": true
   },
   "outputs": [],
   "source": [
    "conn.database_names()"
   ]
  },
  {
   "cell_type": "code",
   "execution_count": null,
   "metadata": {
    "collapsed": true
   },
   "outputs": [],
   "source": [
    "text_table.remove({'_id':1234})"
   ]
  },
  {
   "cell_type": "code",
   "execution_count": null,
   "metadata": {
    "collapsed": true
   },
   "outputs": [],
   "source": []
  },
  {
   "cell_type": "code",
   "execution_count": null,
   "metadata": {
    "collapsed": true
   },
   "outputs": [],
   "source": []
  },
  {
   "cell_type": "code",
   "execution_count": null,
   "metadata": {
    "collapsed": true
   },
   "outputs": [],
   "source": []
  },
  {
   "cell_type": "code",
   "execution_count": null,
   "metadata": {
    "collapsed": true
   },
   "outputs": [],
   "source": []
  },
  {
   "cell_type": "code",
   "execution_count": null,
   "metadata": {
    "collapsed": true
   },
   "outputs": [],
   "source": []
  },
  {
   "cell_type": "code",
   "execution_count": null,
   "metadata": {
    "collapsed": true
   },
   "outputs": [],
   "source": []
  },
  {
   "cell_type": "code",
   "execution_count": null,
   "metadata": {
    "collapsed": true
   },
   "outputs": [],
   "source": []
  },
  {
   "cell_type": "code",
   "execution_count": null,
   "metadata": {
    "collapsed": true
   },
   "outputs": [],
   "source": []
  }
 ],
 "metadata": {
  "kernelspec": {
   "display_name": "Python 3",
   "language": "python",
   "name": "python3"
  },
  "language_info": {
   "codemirror_mode": {
    "name": "ipython",
    "version": 3
   },
   "file_extension": ".py",
   "mimetype": "text/x-python",
   "name": "python",
   "nbconvert_exporter": "python",
   "pygments_lexer": "ipython3",
   "version": "3.6.1"
  }
 },
 "nbformat": 4,
 "nbformat_minor": 2
}
